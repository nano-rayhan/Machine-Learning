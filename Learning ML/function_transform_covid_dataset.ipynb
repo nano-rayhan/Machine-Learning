{
 "cells": [
  {
   "cell_type": "code",
   "execution_count": 1,
   "id": "4b63b30a",
   "metadata": {},
   "outputs": [],
   "source": [
    "import numpy as np\n",
    "import pandas as pd"
   ]
  },
  {
   "cell_type": "code",
   "execution_count": 3,
   "id": "b329a91b",
   "metadata": {},
   "outputs": [],
   "source": [
    "df = pd.read_csv('covid_toy.csv',usecols=['age','fever','has_covid'])"
   ]
  },
  {
   "cell_type": "code",
   "execution_count": 4,
   "id": "0f88d726",
   "metadata": {},
   "outputs": [
    {
     "data": {
      "text/plain": [
       "<bound method NDFrame.sample of     age  fever has_covid\n",
       "0    60  103.0        No\n",
       "1    27  100.0       Yes\n",
       "2    42  101.0        No\n",
       "3    31   98.0        No\n",
       "4    65  101.0        No\n",
       "..  ...    ...       ...\n",
       "95   12  104.0        No\n",
       "96   51  101.0       Yes\n",
       "97   20  101.0        No\n",
       "98    5   98.0        No\n",
       "99   10   98.0       Yes\n",
       "\n",
       "[100 rows x 3 columns]>"
      ]
     },
     "execution_count": 4,
     "metadata": {},
     "output_type": "execute_result"
    }
   ],
   "source": [
    "df.sample"
   ]
  },
  {
   "cell_type": "code",
   "execution_count": 20,
   "id": "1411cbb0",
   "metadata": {},
   "outputs": [],
   "source": [
    "df.fillna(df['fever'].mean(), inplace=True)"
   ]
  },
  {
   "cell_type": "code",
   "execution_count": 21,
   "id": "e06a1342",
   "metadata": {},
   "outputs": [
    {
     "data": {
      "text/plain": [
       "age          0\n",
       "fever        0\n",
       "has_covid    0\n",
       "dtype: int64"
      ]
     },
     "execution_count": 21,
     "metadata": {},
     "output_type": "execute_result"
    }
   ],
   "source": [
    "df.isnull().sum()"
   ]
  },
  {
   "cell_type": "code",
   "execution_count": 22,
   "id": "0cd04309",
   "metadata": {},
   "outputs": [],
   "source": [
    "from sklearn.compose import ColumnTransformer\n",
    "from sklearn.linear_model import LogisticRegression\n",
    "from sklearn.tree import DecisionTreeClassifier\n",
    "from sklearn.preprocessing import FunctionTransformer\n",
    "from sklearn.model_selection import cross_val_score"
   ]
  },
  {
   "cell_type": "code",
   "execution_count": 31,
   "id": "2dd57304",
   "metadata": {},
   "outputs": [],
   "source": [
    "def apply_transform(transform):\n",
    "    x = df.drop(columns=['has_covid'])\n",
    "    y = df['has_covid']\n",
    "\n",
    "    trf = ColumnTransformer([\n",
    "        ('log', FunctionTransformer(transform), ['fever','age'])\n",
    "    ],remainder='passthrough')\n",
    "\n",
    "    x_transf = trf.fit_transform(x)\n",
    "\n",
    "    clf = DecisionTreeClassifier()\n",
    "\n",
    "    print('accuracy', np.mean(cross_val_score(clf, x_transf, y, cv=10, scoring='accuracy')))\n",
    "    "
   ]
  },
  {
   "cell_type": "code",
   "execution_count": 32,
   "id": "1b0ad4b3",
   "metadata": {},
   "outputs": [
    {
     "name": "stdout",
     "output_type": "stream",
     "text": [
      "accuracy 0.55\n"
     ]
    }
   ],
   "source": [
    "apply_transform(lambda x: x**2)"
   ]
  },
  {
   "cell_type": "code",
   "execution_count": null,
   "id": "93b3c280",
   "metadata": {},
   "outputs": [],
   "source": []
  }
 ],
 "metadata": {
  "kernelspec": {
   "display_name": "base",
   "language": "python",
   "name": "python3"
  },
  "language_info": {
   "codemirror_mode": {
    "name": "ipython",
    "version": 3
   },
   "file_extension": ".py",
   "mimetype": "text/x-python",
   "name": "python",
   "nbconvert_exporter": "python",
   "pygments_lexer": "ipython3",
   "version": "3.13.5"
  }
 },
 "nbformat": 4,
 "nbformat_minor": 5
}
